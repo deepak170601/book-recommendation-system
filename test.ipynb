{
 "cells": [
  {
   "cell_type": "code",
   "execution_count": null,
   "metadata": {},
   "outputs": [],
   "source": [
    "from transformers import DistilBertModel, DistilBertTokenizer\n",
    "from sklearn.metrics.pairwise import cosine_similarity\n",
    "import pandas as pd\n",
    "import numpy as np\n",
    "\n",
    "# Load your dataset\n",
    "df = pd.read_csv(\"books.csv\")"
   ]
  },
  {
   "cell_type": "code",
   "execution_count": null,
   "metadata": {},
   "outputs": [],
   "source": [
    "\n",
    "# Load pre-trained DistilBERT model and tokenizer\n",
    "tokenizer = DistilBertTokenizer.from_pretrained('distilbert-base-uncased')\n",
    "model = DistilBertModel.from_pretrained('distilbert-base-uncased')\n"
   ]
  },
  {
   "cell_type": "code",
   "execution_count": null,
   "metadata": {},
   "outputs": [],
   "source": [
    "# Function to get embeddings for text\n",
    "def get_embeddings(text):\n",
    "    inputs = tokenizer(text, return_tensors='pt', truncation=True, padding=True)\n",
    "    outputs = model(**inputs)\n",
    "    embeddings = outputs.last_hidden_state.mean(dim=1).squeeze().detach().numpy()\n",
    "    return embeddings"
   ]
  },
  {
   "cell_type": "code",
   "execution_count": null,
   "metadata": {},
   "outputs": [],
   "source": [
    "\n",
    "\n",
    "# Process book data\n",
    "book_embeddings = np.array([get_embeddings(title + ' ' + description) for title, description in zip(df['title'].astype(str), df['description'].astype(str))])\n",
    "\n",
    "# User input\n"
   ]
  },
  {
   "cell_type": "code",
   "execution_count": null,
   "metadata": {},
   "outputs": [],
   "source": [
    "user_input = \"gravity\"  # Replace with the actual user input\n",
    "user_embedding = get_embeddings(user_input)\n",
    "\n",
    "# Calculate cosine similarity between user input and book embeddings\n",
    "user_embedding = user_embedding.reshape(1, -1)  # Reshape to 2D array\n",
    "similarities = cosine_similarity(user_embedding, book_embeddings)\n",
    "\n",
    "# Print top 10 similarities along with corresponding books\n",
    "print(\"Top 10 Similarities:\")\n",
    "top_indices = similarities.argsort()[0][-10:][::-1]\n",
    "for i, idx in enumerate(top_indices):\n",
    "    similarity_score = similarities[0, idx]\n",
    "    book_title = df.iloc[idx]['title']\n",
    "    book_description = df.iloc[idx]['description']\n",
    "    \n",
    "    print(f\"{i + 1}. Similarity: {similarity_score:.4f} - Title: {book_title}\")\n",
    "\n",
    "# Display top N recommendations\n",
    "top_recommendations = df.iloc[top_indices]\n",
    "print(top_recommendations[['title']])\n"
   ]
  }
 ],
 "metadata": {
  "kernelspec": {
   "display_name": "Python 3",
   "language": "python",
   "name": "python3"
  },
  "language_info": {
   "codemirror_mode": {
    "name": "ipython",
    "version": 3
   },
   "file_extension": ".py",
   "mimetype": "text/x-python",
   "name": "python",
   "nbconvert_exporter": "python",
   "pygments_lexer": "ipython3",
   "version": "3.11.3"
  }
 },
 "nbformat": 4,
 "nbformat_minor": 2
}
